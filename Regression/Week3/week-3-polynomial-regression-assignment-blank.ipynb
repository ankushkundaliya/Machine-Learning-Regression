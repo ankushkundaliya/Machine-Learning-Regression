{
 "cells": [
  {
   "cell_type": "markdown",
   "metadata": {},
   "source": [
    "# Regression Week 3: Assessing Fit (polynomial regression)"
   ]
  },
  {
   "cell_type": "markdown",
   "metadata": {},
   "source": [
    "In this notebook you will compare different regression models in order to assess which model fits best. We will be using polynomial regression as a means to examine this topic. In particular you will:\n",
    "* Write a function to take an SArray and a degree and return an SFrame where each column is the SArray to a polynomial value up to the total degree e.g. degree = 3 then column 1 is the SArray column 2 is the SArray squared and column 3 is the SArray cubed\n",
    "* Use matplotlib to visualize polynomial regressions\n",
    "* Use matplotlib to visualize the same polynomial degree on different subsets of the data\n",
    "* Use a validation set to select a polynomial degree\n",
    "* Assess the final fit using test data\n",
    "\n",
    "We will continue to use the House data from previous notebooks."
   ]
  },
  {
   "cell_type": "code",
   "execution_count": 1,
   "metadata": {},
   "outputs": [],
   "source": [
    "import numpy as np\n",
    "import pandas as pd\n",
    "from sklearn import linear_model as lm"
   ]
  },
  {
   "cell_type": "markdown",
   "metadata": {},
   "source": [
    "Next we're going to write a polynomial function that takes a pandas Series and a maximal degree and returns a DataFrame with columns containing the Series to all the powers up to the maximal degree.\n",
    "\n",
    "The easiest way to apply a power to a Series is to use the .apply() and lambda x: functions. \n",
    "For example to take the example array and compute the third power we can do as follows:"
   ]
  },
  {
   "cell_type": "code",
   "execution_count": 2,
   "metadata": {},
   "outputs": [
    {
     "name": "stdout",
     "output_type": "stream",
     "text": [
      "0    1.0\n",
      "1    2.0\n",
      "2    3.0\n",
      "dtype: float64\n",
      "0     1.0\n",
      "1     8.0\n",
      "2    27.0\n",
      "dtype: float64\n"
     ]
    }
   ],
   "source": [
    "tmp = pd.Series([1., 2., 3.])\n",
    "tmp_cubed = tmp.apply(lambda x: x**3)\n",
    "print(tmp)\n",
    "print(tmp_cubed)"
   ]
  },
  {
   "cell_type": "markdown",
   "metadata": {},
   "source": [
    "We can create an empty DataFrame using using pandas and then add any columns to it with dataframe['column_name'] = value."
   ]
  },
  {
   "cell_type": "code",
   "execution_count": 3,
   "metadata": {},
   "outputs": [
    {
     "name": "stdout",
     "output_type": "stream",
     "text": [
      "   power_1\n",
      "0      1.0\n",
      "1      2.0\n",
      "2      3.0\n"
     ]
    }
   ],
   "source": [
    "ex_dframe = pd.DataFrame()\n",
    "ex_dframe['power_1'] = tmp\n",
    "print(ex_dframe)"
   ]
  },
  {
   "cell_type": "markdown",
   "metadata": {},
   "source": [
    "# Polynomial_dataframe function"
   ]
  },
  {
   "cell_type": "markdown",
   "metadata": {},
   "source": [
    "Using the hints above complete the following function to create a DataFrame consisting of the powers of a Series up to a specific degree:"
   ]
  },
  {
   "cell_type": "code",
   "execution_count": 4,
   "metadata": {},
   "outputs": [],
   "source": [
    "def polynomial_dframe(feature, degree):\n",
    "    # assume that degree >= 1\n",
    "    # initialize the DataFrame:\n",
    "    poly_dframe = pd.DataFrame()\n",
    "    # and set poly_dframe['power_1'] equal to the passed feature\n",
    "    poly_dframe['power_1'] = feature\n",
    "\n",
    "    # first check if degree > 1\n",
    "    if degree > 1:\n",
    "        # then loop over the remaining degrees:\n",
    "        # range usually starts at 0 and stops at the endpoint-1. We want it to start at 2 and stop at degree\n",
    "        for power in range(2, degree+1): \n",
    "            # first we'll give the column a name:\n",
    "            name = 'power_' + str(power)\n",
    "            # then assign poly_dframe[name] to the appropriate power of feature\n",
    "            poly_dframe[name] = feature.apply(lambda x: x**power)\n",
    "\n",
    "    return poly_dframe"
   ]
  },
  {
   "cell_type": "markdown",
   "metadata": {},
   "source": [
    "To test your function consider the smaller tmp variable and what you would expect the outcome of the following call:"
   ]
  },
  {
   "cell_type": "code",
   "execution_count": 5,
   "metadata": {},
   "outputs": [
    {
     "name": "stdout",
     "output_type": "stream",
     "text": [
      "   power_1  power_2  power_3\n",
      "0      1.0      1.0      1.0\n",
      "1      2.0      4.0      8.0\n",
      "2      3.0      9.0     27.0\n"
     ]
    }
   ],
   "source": [
    "print(polynomial_dframe(tmp, 3))"
   ]
  },
  {
   "cell_type": "markdown",
   "metadata": {},
   "source": [
    "# Visualizing polynomial regression"
   ]
  },
  {
   "cell_type": "markdown",
   "metadata": {},
   "source": [
    "Let's use matplotlib to visualize what a polynomial regression looks like on some real data."
   ]
  },
  {
   "cell_type": "code",
   "execution_count": 6,
   "metadata": {},
   "outputs": [],
   "source": [
    "dtype_dict = {'bathrooms':float, 'waterfront':int, 'sqft_above':int, 'sqft_living15':float, 'grade':int,\\\n",
    "              'yr_renovated':int, 'price':float, 'bedrooms':float, 'zipcode':str, 'long':float, 'sqft_lot15':float,\\\n",
    "              'sqft_living':float, 'floors':str, 'condition':int, 'lat':float, 'date':str, 'sqft_basement':int,\\\n",
    "              'yr_built':int, 'id':str, 'sqft_lot':int, 'view':int}\n",
    "\n",
    "sales = pd.read_csv('kc_house_data.csv', dtype = dtype_dict)"
   ]
  },
  {
   "cell_type": "markdown",
   "metadata": {},
   "source": [
    "As in Week 3, we will use the sqft_living variable. For plotting purposes (connecting the dots), you'll need to sort by the values of sqft_living. For houses with identical square footage, we break the tie by their prices."
   ]
  },
  {
   "cell_type": "code",
   "execution_count": 7,
   "metadata": {},
   "outputs": [
    {
     "name": "stdout",
     "output_type": "stream",
     "text": [
      "       sqft_living      price\n",
      "19452        290.0   142000.0\n",
      "15381        370.0   276000.0\n",
      "860          380.0   245000.0\n",
      "18379        384.0   265000.0\n",
      "4868         390.0   228000.0\n",
      "21332        390.0   245000.0\n",
      "8623         410.0   325000.0\n",
      "11500        420.0   229050.0\n",
      "14466        420.0   280000.0\n",
      "465          430.0    80000.0\n",
      "1168         440.0   290000.0\n",
      "18052        460.0   247000.0\n",
      "12075        470.0   156000.0\n",
      "15248        470.0   192500.0\n",
      "17394        480.0   145000.0\n",
      "8133         480.0   170000.0\n",
      "4203         490.0   150000.0\n",
      "4651         500.0   125000.0\n",
      "2141         520.0    82500.0\n",
      "3223         520.0   262000.0\n",
      "18059        520.0   275000.0\n",
      "2930         520.0   295000.0\n",
      "6779         520.0   310000.0\n",
      "9641         520.0   330000.0\n",
      "12484        530.0   238000.0\n",
      "3582         530.0   355000.0\n",
      "7017         530.0   400000.0\n",
      "14450        540.0   345000.0\n",
      "12757        540.0   425000.0\n",
      "18508        550.0   115000.0\n",
      "...            ...        ...\n",
      "12872       6980.0  3100000.0\n",
      "15482       7000.0  3200000.0\n",
      "7035        7050.0  3800000.0\n",
      "4149        7080.0  4000000.0\n",
      "7907        7100.0  3200000.0\n",
      "21050       7120.0   900000.0\n",
      "6501        7220.0  1940000.0\n",
      "21506       7270.0  2238890.0\n",
      "18594       7320.0  1135250.0\n",
      "2713        7350.0  1110000.0\n",
      "1315        7390.0  5300000.0\n",
      "10373       7400.0  2983000.0\n",
      "11871       7420.0  1950000.0\n",
      "12370       7440.0  4208000.0\n",
      "4024        7480.0   800000.0\n",
      "14032       7620.0  1680000.0\n",
      "18477       7710.0  3300000.0\n",
      "16773       7730.0  1920000.0\n",
      "19858       7850.0  2700000.0\n",
      "13411       7880.0  2415000.0\n",
      "1448        8000.0  5350000.0\n",
      "1164        8010.0  5110800.0\n",
      "18302       8020.0  3300000.0\n",
      "14556       8670.0  2888000.0\n",
      "4411        9200.0  5570000.0\n",
      "8092        9640.0  4668000.0\n",
      "9254        9890.0  6885000.0\n",
      "3914       10040.0  7062500.0\n",
      "7252       12050.0  7700000.0\n",
      "12777      13540.0  2280000.0\n",
      "\n",
      "[21613 rows x 2 columns]\n"
     ]
    }
   ],
   "source": [
    "sales = sales.sort_values(['sqft_living', 'price'], axis = 0)\n",
    "print(sales[['sqft_living', 'price']])"
   ]
  },
  {
   "cell_type": "markdown",
   "metadata": {},
   "source": [
    "Let's start with a degree 1 polynomial using 'sqft_living' (i.e. a line) to predict 'price' and plot what it looks like."
   ]
  },
  {
   "cell_type": "code",
   "execution_count": 8,
   "metadata": {},
   "outputs": [
    {
     "data": {
      "text/html": [
       "<div>\n",
       "<style scoped>\n",
       "    .dataframe tbody tr th:only-of-type {\n",
       "        vertical-align: middle;\n",
       "    }\n",
       "\n",
       "    .dataframe tbody tr th {\n",
       "        vertical-align: top;\n",
       "    }\n",
       "\n",
       "    .dataframe thead th {\n",
       "        text-align: right;\n",
       "    }\n",
       "</style>\n",
       "<table border=\"1\" class=\"dataframe\">\n",
       "  <thead>\n",
       "    <tr style=\"text-align: right;\">\n",
       "      <th></th>\n",
       "      <th>power_1</th>\n",
       "      <th>price</th>\n",
       "    </tr>\n",
       "  </thead>\n",
       "  <tbody>\n",
       "    <tr>\n",
       "      <th>19452</th>\n",
       "      <td>290.0</td>\n",
       "      <td>142000.0</td>\n",
       "    </tr>\n",
       "    <tr>\n",
       "      <th>15381</th>\n",
       "      <td>370.0</td>\n",
       "      <td>276000.0</td>\n",
       "    </tr>\n",
       "    <tr>\n",
       "      <th>860</th>\n",
       "      <td>380.0</td>\n",
       "      <td>245000.0</td>\n",
       "    </tr>\n",
       "    <tr>\n",
       "      <th>18379</th>\n",
       "      <td>384.0</td>\n",
       "      <td>265000.0</td>\n",
       "    </tr>\n",
       "    <tr>\n",
       "      <th>4868</th>\n",
       "      <td>390.0</td>\n",
       "      <td>228000.0</td>\n",
       "    </tr>\n",
       "    <tr>\n",
       "      <th>21332</th>\n",
       "      <td>390.0</td>\n",
       "      <td>245000.0</td>\n",
       "    </tr>\n",
       "    <tr>\n",
       "      <th>8623</th>\n",
       "      <td>410.0</td>\n",
       "      <td>325000.0</td>\n",
       "    </tr>\n",
       "    <tr>\n",
       "      <th>11500</th>\n",
       "      <td>420.0</td>\n",
       "      <td>229050.0</td>\n",
       "    </tr>\n",
       "    <tr>\n",
       "      <th>14466</th>\n",
       "      <td>420.0</td>\n",
       "      <td>280000.0</td>\n",
       "    </tr>\n",
       "    <tr>\n",
       "      <th>465</th>\n",
       "      <td>430.0</td>\n",
       "      <td>80000.0</td>\n",
       "    </tr>\n",
       "  </tbody>\n",
       "</table>\n",
       "</div>"
      ],
      "text/plain": [
       "       power_1     price\n",
       "19452    290.0  142000.0\n",
       "15381    370.0  276000.0\n",
       "860      380.0  245000.0\n",
       "18379    384.0  265000.0\n",
       "4868     390.0  228000.0\n",
       "21332    390.0  245000.0\n",
       "8623     410.0  325000.0\n",
       "11500    420.0  229050.0\n",
       "14466    420.0  280000.0\n",
       "465      430.0   80000.0"
      ]
     },
     "execution_count": 8,
     "metadata": {},
     "output_type": "execute_result"
    }
   ],
   "source": [
    "poly1_data = polynomial_dframe(sales['sqft_living'], 1)\n",
    "poly1_data['price'] = sales['price'] # add price to the data since it's the target\n",
    "poly1_data.head(10)"
   ]
  },
  {
   "cell_type": "markdown",
   "metadata": {},
   "source": [
    "NOTE: for all the models in this notebook use validation_set = None to ensure that all results are consistent across users."
   ]
  },
  {
   "cell_type": "code",
   "execution_count": 9,
   "metadata": {},
   "outputs": [
    {
     "data": {
      "text/plain": [
       "LinearRegression(copy_X=True, fit_intercept=True, n_jobs=1, normalize=False)"
      ]
     },
     "execution_count": 9,
     "metadata": {},
     "output_type": "execute_result"
    }
   ],
   "source": [
    "model1 = lm.LinearRegression()\n",
    "model1.fit(poly1_data[['power_1']], poly1_data['price'])"
   ]
  },
  {
   "cell_type": "code",
   "execution_count": 10,
   "metadata": {},
   "outputs": [
    {
     "name": "stdout",
     "output_type": "stream",
     "text": [
      "coefficients  [280.6235679]\n",
      "intercept  -43580.74309447431\n"
     ]
    }
   ],
   "source": [
    "#let's take a look at the weights before we plot\n",
    "print(\"coefficients \", model1.coef_)\n",
    "print(\"intercept \", model1.intercept_)"
   ]
  },
  {
   "cell_type": "code",
   "execution_count": 11,
   "metadata": {},
   "outputs": [],
   "source": [
    "import matplotlib.pyplot as plt\n",
    "%matplotlib inline"
   ]
  },
  {
   "cell_type": "code",
   "execution_count": 12,
   "metadata": {},
   "outputs": [
    {
     "data": {
      "text/plain": [
       "[<matplotlib.lines.Line2D at 0x1cd692096d8>,\n",
       " <matplotlib.lines.Line2D at 0x1cd69209d68>]"
      ]
     },
     "execution_count": 12,
     "metadata": {},
     "output_type": "execute_result"
    },
    {
     "data": {
      "image/png": "[encoded data removed]",
      "text/plain": [
       "<matplotlib.figure.Figure at 0x1cd691f4e48>"
      ]
     },
     "metadata": {},
     "output_type": "display_data"
    }
   ],
   "source": [
    "plt.plot(poly1_data['power_1'],poly1_data['price'],'.',\n",
    "        poly1_data['power_1'], model1.predict(poly1_data[['power_1']]),'-')"
   ]
  },
  {
   "cell_type": "markdown",
   "metadata": {},
   "source": [
    "Let's unpack that plt.plot() command. The first pair of Series we passed are the 1st power of sqft and the actual price we then ask it to print these as dots '.'. The next pair we pass is the 1st power of sqft and the predicted values from the linear model. We ask these to be plotted as a line '-'. \n",
    "\n",
    "We can see, not surprisingly, that the predicted values all fall on a line, specifically the one with slope 280 and intercept -43579. What if we wanted to plot a second degree polynomial?"
   ]
  },
  {
   "cell_type": "code",
   "execution_count": 13,
   "metadata": {},
   "outputs": [
    {
     "data": {
      "text/plain": [
       "LinearRegression(copy_X=True, fit_intercept=True, n_jobs=1, normalize=False)"
      ]
     },
     "execution_count": 13,
     "metadata": {},
     "output_type": "execute_result"
    }
   ],
   "source": [
    "poly2_data = polynomial_dframe(sales['sqft_living'], 2)\n",
    "my_features = poly2_data.columns# get the name of the features\n",
    "poly2_data['price'] = sales['price'] # add price to the data since it's the target\n",
    "model2 = lm.LinearRegression()\n",
    "model2.fit(poly2_data[my_features], poly2_data['price'])"
   ]
  },
  {
   "cell_type": "code",
   "execution_count": 14,
   "metadata": {},
   "outputs": [
    {
     "name": "stdout",
     "output_type": "stream",
     "text": [
      "coefficients  [6.79940947e+01 3.85812609e-02]\n",
      "intercept  199222.2793054852\n"
     ]
    }
   ],
   "source": [
    "print(\"coefficients \", model2.coef_)\n",
    "print(\"intercept \", model2.intercept_)"
   ]
  },
  {
   "cell_type": "code",
   "execution_count": 15,
   "metadata": {},
   "outputs": [
    {
     "data": {
      "text/plain": [
       "[<matplotlib.lines.Line2D at 0x1cd6926fef0>,\n",
       " <matplotlib.lines.Line2D at 0x1cd6927b518>]"
      ]
     },
     "execution_count": 15,
     "metadata": {},
     "output_type": "execute_result"
    },
    {
     "data": {
      "image/png": "[encoded data removed]",
      "text/plain": [
       "<matplotlib.figure.Figure at 0x1cd6923d2b0>"
      ]
     },
     "metadata": {},
     "output_type": "display_data"
    }
   ],
   "source": [
    "plt.plot(poly2_data['power_1'],poly2_data['price'],'.',\n",
    "        poly2_data['power_1'], model2.predict(poly2_data[my_features]),'-')"
   ]
  },
  {
   "cell_type": "markdown",
   "metadata": {},
   "source": [
    "The resulting model looks like half a parabola. Try on your own to see what the cubic looks like:"
   ]
  },
  {
   "cell_type": "code",
   "execution_count": 16,
   "metadata": {},
   "outputs": [
    {
     "data": {
      "text/plain": [
       "LinearRegression(copy_X=True, fit_intercept=True, n_jobs=1, normalize=False)"
      ]
     },
     "execution_count": 16,
     "metadata": {},
     "output_type": "execute_result"
    }
   ],
   "source": [
    "poly3_data = polynomial_dframe(sales['sqft_living'], 3)\n",
    "my_features = poly3_data.columns# get the name of the features\n",
    "poly3_data['price'] = sales['price'] # add price to the data since it's the target\n",
    "model3 = lm.LinearRegression()\n",
    "model3.fit(poly3_data[my_features], poly3_data['price'])"
   ]
  },
  {
   "cell_type": "code",
   "execution_count": 17,
   "metadata": {},
   "outputs": [
    {
     "name": "stdout",
     "output_type": "stream",
     "text": [
      "coefficients  [-9.01819864e+01  8.70465089e-02 -3.84055260e-06]\n",
      "intercept  336819.7482212147\n"
     ]
    }
   ],
   "source": [
    "print(\"coefficients \", model3.coef_)\n",
    "print(\"intercept \", model3.intercept_)"
   ]
  },
  {
   "cell_type": "code",
   "execution_count": 18,
   "metadata": {},
   "outputs": [
    {
     "data": {
      "text/plain": [
       "[<matplotlib.lines.Line2D at 0x1cd693101d0>,\n",
       " <matplotlib.lines.Line2D at 0x1cd693107b8>]"
      ]
     },
     "execution_count": 18,
     "metadata": {},
     "output_type": "execute_result"
    },
    {
     "data": {
      "image/png": "[encoded data removed]",
      "text/plain": [
       "<matplotlib.figure.Figure at 0x1cd692cefd0>"
      ]
     },
     "metadata": {},
     "output_type": "display_data"
    }
   ],
   "source": [
    "plt.plot(poly3_data['power_1'],poly3_data['price'],'.',\n",
    "        poly3_data['power_1'], model3.predict(poly3_data[my_features]),'-')"
   ]
  },
  {
   "cell_type": "markdown",
   "metadata": {},
   "source": [
    "Now try a 15th degree polynomial:"
   ]
  },
  {
   "cell_type": "code",
   "execution_count": 19,
   "metadata": {},
   "outputs": [
    {
     "data": {
      "text/plain": [
       "LinearRegression(copy_X=True, fit_intercept=True, n_jobs=1, normalize=False)"
      ]
     },
     "execution_count": 19,
     "metadata": {},
     "output_type": "execute_result"
    }
   ],
   "source": [
    "poly15_data = polynomial_dframe(sales['sqft_living'], 15)\n",
    "my_features = poly15_data.columns# get the name of the features\n",
    "poly15_data['price'] = sales['price'] # add price to the data since it's the target\n",
    "model15 = lm.LinearRegression()\n",
    "model15.fit(poly15_data[my_features], poly15_data[['price']])"
   ]
  },
  {
   "cell_type": "code",
   "execution_count": 20,
   "metadata": {},
   "outputs": [
    {
     "name": "stdout",
     "output_type": "stream",
     "text": [
      "coefficients  [[ 4.56404164e-91  6.91711930e-51 -5.84644714e-56 -4.97841222e-60\n",
      "   0.00000000e+00  2.68575170e-71  2.26147568e-67  1.85900299e-63\n",
      "   1.47144116e-59  1.09771012e-55  7.43509038e-52  4.23015578e-48\n",
      "   1.61618577e-44 -2.49283826e-48  9.59718336e-53]]\n",
      "intercept  [537116.32963774]\n"
     ]
    }
   ],
   "source": [
    "print(\"coefficients \", model15.coef_)\n",
    "print(\"intercept \", model15.intercept_)"
   ]
  },
  {
   "cell_type": "code",
   "execution_count": 21,
   "metadata": {},
   "outputs": [
    {
     "data": {
      "text/plain": [
       "[<matplotlib.lines.Line2D at 0x1cd69415048>,\n",
       " <matplotlib.lines.Line2D at 0x1cd69415518>]"
      ]
     },
     "execution_count": 21,
     "metadata": {},
     "output_type": "execute_result"
    },
    {
     "data": {
      "image/png": "[encoded data removed]",
      "text/plain": [
       "<matplotlib.figure.Figure at 0x1cd692a02e8>"
      ]
     },
     "metadata": {},
     "output_type": "display_data"
    }
   ],
   "source": [
    "plt.plot(poly15_data['power_1'],poly15_data['price'],'.',\n",
    "        poly15_data['power_1'], model15.predict(poly15_data[my_features]),'-')"
   ]
  },
  {
   "cell_type": "markdown",
   "metadata": {},
   "source": [
    "What do you think of the 15th degree polynomial? Do you think this is appropriate? If we were to change the data do you think you'd get pretty much the same curve? Let's take a look."
   ]
  },
  {
   "cell_type": "markdown",
   "metadata": {},
   "source": [
    "# Changing the data and re-learning"
   ]
  },
  {
   "cell_type": "markdown",
   "metadata": {},
   "source": [
    "We're going to split the sales data into four subsets of roughly equal size. Then you will estimate a 15th degree polynomial model on all four subsets of the data. Print the coefficients (you should use .print_rows(num_rows = 16) to view all of them) and plot the resulting fit (as we did above). The quiz will ask you some questions about these results.\n",
    "\n",
    "To split the sales data into four subsets, we perform the following steps:\n",
    "* First split sales into 2 subsets with `.random_split(0.5, seed=0)`. \n",
    "* Next split the resulting subsets into 2 more subsets each. Use `.random_split(0.5, seed=0)`.\n",
    "\n",
    "We set `seed=0` in these steps so that different users get consistent results.\n",
    "You should end up with 4 subsets (`set_1`, `set_2`, `set_3`, `set_4`) of approximately equal size. "
   ]
  },
  {
   "cell_type": "code",
   "execution_count": 34,
   "metadata": {},
   "outputs": [],
   "source": [
    "set_1 = pd.read_csv('wk3_kc_house_set_1_data.csv', dtype = dtype_dict)\n",
    "set_2 = pd.read_csv('wk3_kc_house_set_2_data.csv', dtype = dtype_dict)\n",
    "set_3 = pd.read_csv('wk3_kc_house_set_3_data.csv', dtype = dtype_dict)\n",
    "set_4 = pd.read_csv('wk3_kc_house_set_4_data.csv', dtype = dtype_dict)"
   ]
  },
  {
   "cell_type": "markdown",
   "metadata": {},
   "source": [
    "Fit a 15th degree polynomial on set_1, set_2, set_3, and set_4 using sqft_living to predict prices. Print the coefficients and make a plot of the resulting model."
   ]
  },
  {
   "cell_type": "code",
   "execution_count": 35,
   "metadata": {},
   "outputs": [],
   "source": [
    "def poly15_dataset(data):\n",
    "    poly15_data = polynomial_dframe(data['sqft_living'],15)\n",
    "    return (poly15_data)\n",
    "\n",
    "def regression_model(poly15_data, features):\n",
    "    model15 = lm.LinearRegression()\n",
    "    model15.fit(poly15_data[features], poly15_data['price'])\n",
    "    return model15\n",
    "\n",
    "def print_coefficients(model15):\n",
    "    print(\"coefficients \", model15.coef_)\n",
    "    print(\"intercept \", model15.intercept_)\n",
    "    return\n",
    "\n",
    "def plot_regression_line(poly15_data, model15, myfeatures):\n",
    "    plt.plot(poly15_data['power_1'],poly15_data['price'],'.',\n",
    "        poly15_data['power_1'], model15.predict(poly15_data[my_features]),'-')\n",
    "    return"
   ]
  },
  {
   "cell_type": "code",
   "execution_count": 37,
   "metadata": {},
   "outputs": [
    {
     "name": "stdout",
     "output_type": "stream",
     "text": [
      "coefficients  [ 3.05794168e-90 -1.69394900e-49  2.35908952e-55  0.00000000e+00\n",
      "  0.00000000e+00  1.10358351e-70  8.37724029e-67  6.23411957e-63\n",
      "  4.49156442e-59  3.06938763e-55  1.91749300e-51  1.01335180e-47\n",
      "  3.62176959e-44 -5.63501661e-48  2.18641116e-52]\n",
      "intercept  539058.8186681257\n"
     ]
    },
    {
     "data": {
      "image/png": "[encoded data removed]",
      "text/plain": [
       "<matplotlib.figure.Figure at 0x1cd694a5940>"
      ]
     },
     "metadata": {},
     "output_type": "display_data"
    }
   ],
   "source": [
    "poly15_set_1_data = poly15_dataset(set_1)\n",
    "my_features = poly15_set_1_data.columns\n",
    "poly15_set_1_data['price'] = set_1['price']\n",
    "model_15 = regression_model(poly15_set_1_data, my_features)\n",
    "print_coefficients(model_15)\n",
    "plot_regression_line(poly15_set_1_data, model_15, my_features)"
   ]
  },
  {
   "cell_type": "code",
   "execution_count": 38,
   "metadata": {},
   "outputs": [
    {
     "name": "stdout",
     "output_type": "stream",
     "text": [
      "coefficients  [ 2.71335943e-77  7.33542374e-39 -1.85052450e-44  1.39207183e-49\n",
      "  0.00000000e+00  0.00000000e+00  3.64549213e-55  1.50416255e-51\n",
      "  5.76015653e-48  1.95770493e-44  5.39396528e-41  9.40376341e-38\n",
      " -3.63529134e-41  4.65476514e-45 -1.97197311e-49]\n",
      "intercept  506738.0371212603\n"
     ]
    },
    {
     "data": {
      "image/png": "[encoded data removed]",
      "text/plain": [
       "<matplotlib.figure.Figure at 0x1cd69b94048>"
      ]
     },
     "metadata": {},
     "output_type": "display_data"
    }
   ],
   "source": [
    "poly15_set_2_data = poly15_dataset(set_2)\n",
    "my_features = poly15_set_2_data.columns\n",
    "poly15_set_2_data['price'] = set_2['price']\n",
    "model_15 = regression_model(poly15_set_2_data, my_features)\n",
    "print_coefficients(model_15)\n",
    "plot_regression_line(poly15_set_2_data, model_15, my_features)"
   ]
  },
  {
   "cell_type": "code",
   "execution_count": 40,
   "metadata": {},
   "outputs": [
    {
     "name": "stdout",
     "output_type": "stream",
     "text": [
      "coefficients  [ 2.83751934e-88 -7.80224148e-49 -1.38766438e-55  3.98272978e-59\n",
      "  0.00000000e+00  4.27894986e-69  2.68009626e-65  1.63911362e-61\n",
      "  9.66435015e-58  5.38044653e-54  2.72563636e-50  1.16253248e-46\n",
      "  3.33756141e-43 -6.76238818e-47  3.43132932e-51]\n",
      "intercept  530874.31665326\n"
     ]
    },
    {
     "data": {
      "image/png": "[encoded data removed]",
      "text/plain": [
       "<matplotlib.figure.Figure at 0x1cd69d1d3c8>"
      ]
     },
     "metadata": {},
     "output_type": "display_data"
    }
   ],
   "source": [
    "poly15_set_3_data = poly15_dataset(set_3)\n",
    "my_features = poly15_set_3_data.columns\n",
    "poly15_set_3_data['price'] = set_3['price']\n",
    "model_15 = regression_model(poly15_set_3_data, my_features)\n",
    "print_coefficients(model_15)\n",
    "plot_regression_line(poly15_set_3_data, model_15, my_features)"
   ]
  },
  {
   "cell_type": "code",
   "execution_count": 41,
   "metadata": {},
   "outputs": [
    {
     "name": "stdout",
     "output_type": "stream",
     "text": [
      "coefficients  [ 1.37116050e-76  2.79678944e-40 -4.25065052e-44  6.08163411e-50\n",
      "  0.00000000e+00  0.00000000e+00  1.27070051e-54  4.87868972e-51\n",
      "  1.73549022e-47  5.47058320e-44  1.39587599e-40  2.25041871e-37\n",
      " -9.43954119e-41  1.31573060e-44 -6.09165883e-49]\n",
      "intercept  494853.3529327342\n"
     ]
    },
    {
     "data": {
      "image/png": "[encoded data removed]",
      "text/plain": [
       "<matplotlib.figure.Figure at 0x1cd69d3fb70>"
      ]
     },
     "metadata": {},
     "output_type": "display_data"
    }
   ],
   "source": [
    "poly15_set_4_data = poly15_dataset(set_4)\n",
    "my_features = poly15_set_4_data.columns\n",
    "poly15_set_4_data['price'] = set_4['price']\n",
    "model_15 = regression_model(poly15_set_4_data, my_features)\n",
    "print_coefficients(model_15)\n",
    "plot_regression_line(poly15_set_4_data, model_15, my_features)"
   ]
  },
  {
   "cell_type": "markdown",
   "metadata": {},
   "source": [
    "Some questions you will be asked on your quiz:\n",
    "\n",
    "**Quiz Question: Is the sign (positive or negative) for power_15 the same in all four models?**\n",
    "\n",
    "**Quiz Question: (True/False) the plotted fitted lines look the same in all four plots**"
   ]
  },
  {
   "cell_type": "markdown",
   "metadata": {},
   "source": [
    "# Selecting a Polynomial Degree"
   ]
  },
  {
   "cell_type": "markdown",
   "metadata": {},
   "source": [
    "Whenever we have a \"magic\" parameter like the degree of the polynomial there is one well-known way to select these parameters: validation set. (We will explore another approach in week 4).\n",
    "\n",
    "We split the sales dataset 3-way into training set, test set, and validation set as follows:\n",
    "\n",
    "* Split our sales data into 2 sets: `training_and_validation` and `testing`. Use `random_split(0.9, seed=1)`.\n",
    "* Further split our training data into two sets: `training` and `validation`. Use `random_split(0.5, seed=1)`.\n",
    "\n",
    "Again, we set `seed=1` to obtain consistent results for different users."
   ]
  },
  {
   "cell_type": "code",
   "execution_count": 53,
   "metadata": {},
   "outputs": [],
   "source": [
    "train_data = pd.read_csv('wk3_kc_house_train_data.csv', dtype = dtype_dict)\n",
    "valid_data = pd.read_csv('wk3_kc_house_valid_data.csv', dtype = dtype_dict)\n",
    "test_data = pd.read_csv('wk3_kc_house_test_data.csv', dtype = dtype_dict)"
   ]
  },
  {
   "cell_type": "markdown",
   "metadata": {},
   "source": [
    "Next you should write a loop that does the following:\n",
    "* For degree in [1, 2, 3, 4, 5, 6, 7, 8, 9, 10, 11, 12, 13, 14, 15] (to get this in python type range(1, 15+1))\n",
    "    * Build a dataframe of polynomial data of train_data['sqft_living'] at the current degree\n",
    "    * Add train_data['price'] to the polynomial dataframe\n",
    "    * Learn a polynomial regression model to sqft vs price with that degree on TRAIN data\n",
    "    * Compute the RSS on VALIDATION data (here you will want to use .predict()) for that degree and you will need to make a polynmial DataFrame using validation data."
   ]
  },
  {
   "cell_type": "code",
   "execution_count": 61,
   "metadata": {},
   "outputs": [
    {
     "name": "stdout",
     "output_type": "stream",
     "text": [
      "Degree with lowest rss : 6\n"
     ]
    }
   ],
   "source": [
    "def compute_rss(predict, actual):\n",
    "    residual = actual - predict\n",
    "    return (residual**2).sum()\n",
    "\n",
    "rss = []\n",
    "for degree in range(1,16):\n",
    "    poly_train_df = polynomial_dframe(train_data['sqft_living'], degree)\n",
    "    poly_valid_df = polynomial_dframe(valid_data['sqft_living'], degree)\n",
    "    features = poly_train_df.columns\n",
    "    poly_train_df['price'] = train_data['price']\n",
    "    model = lm.LinearRegression()\n",
    "    model.fit(poly_train_df[features], poly_train_df['price'])\n",
    "    predictions = model.predict(poly_valid_df[features])\n",
    "    rss.append(compute_rss(predictions, valid_data['price']))\n",
    "\n",
    "print(\"Degree with lowest rss :\", rss.index(min(rss))+1)\n"
   ]
  },
  {
   "cell_type": "markdown",
   "metadata": {},
   "source": [
    "**Quiz Question: Which degree (1, 2, …, 15) had the lowest RSS on Validation data?**"
   ]
  },
  {
   "cell_type": "markdown",
   "metadata": {},
   "source": [
    "Now that you have chosen the degree of your polynomial using validation data, compute the RSS of this model on TEST data. Report the RSS on your quiz."
   ]
  },
  {
   "cell_type": "code",
   "execution_count": 64,
   "metadata": {},
   "outputs": [
    {
     "name": "stdout",
     "output_type": "stream",
     "text": [
      "135225114555012.02\n"
     ]
    }
   ],
   "source": [
    "poly_train_df = polynomial_dframe(train_data['sqft_living'], 6)\n",
    "poly_test_df = polynomial_dframe(test_data['sqft_living'], 6)\n",
    "features = poly_train_df.columns\n",
    "poly_train_df['price'] = train_data['price']\n",
    "model = lm.LinearRegression()\n",
    "model.fit(poly_train_df[features], poly_train_df['price'])\n",
    "predictions = model.predict(poly_test_df[features])\n",
    "print(compute_rss(predictions, test_data['price']))"
   ]
  },
  {
   "cell_type": "markdown",
   "metadata": {},
   "source": [
    "**Quiz Question: what is the RSS on TEST data for the model with the degree selected from Validation data?**"
   ]
  },
  {
   "cell_type": "code",
   "execution_count": null,
   "metadata": {},
   "outputs": [],
   "source": []
  }
 ],
 "metadata": {
  "kernelspec": {
   "display_name": "Python 3",
   "language": "python",
   "name": "python3"
  },
  "language_info": {
   "codemirror_mode": {
    "name": "ipython",
    "version": 3
   },
   "file_extension": ".py",
   "mimetype": "text/x-python",
   "name": "python",
   "nbconvert_exporter": "python",
   "pygments_lexer": "ipython3",
   "version": "3.6.4"
  }
 },
 "nbformat": 4,
 "nbformat_minor": 1
}
